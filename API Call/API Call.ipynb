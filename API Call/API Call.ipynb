{
 "cells": [
  {
   "cell_type": "markdown",
   "metadata": {},
   "source": [
    "# Import necessary libraries to get data from API calls"
   ]
  },
  {
   "cell_type": "code",
   "execution_count": 1,
   "metadata": {},
   "outputs": [],
   "source": [
    "import pandas as pd\n",
    "import matplotlib.pyplot as plt\n",
    "import seaborn as sns\n",
    "import json\n",
    "import requests\n",
    "import time"
   ]
  },
  {
   "cell_type": "code",
   "execution_count": 2,
   "metadata": {},
   "outputs": [],
   "source": [
    "# key regenerates every 48 hours, so don't need to hide it\n",
    "key = 'RGAPI-9a2ff667-3c80-4a26-8a73-d927513e23f1'"
   ]
  },
  {
   "cell_type": "markdown",
   "metadata": {},
   "source": [
    "# Need to pull in Challenger Players first to be able to get match histories later"
   ]
  },
  {
   "cell_type": "code",
   "execution_count": 8,
   "metadata": {},
   "outputs": [],
   "source": [
    "challengers = 'https://na1.api.riotgames.com/lol/league/v4/challengerleagues/by-queue/RANKED_SOLO_5x5?api_key={}'.format(key)"
   ]
  },
  {
   "cell_type": "code",
   "execution_count": 9,
   "metadata": {},
   "outputs": [],
   "source": [
    "response = requests.get(challengers)"
   ]
  },
  {
   "cell_type": "code",
   "execution_count": 10,
   "metadata": {},
   "outputs": [],
   "source": [
    "df = pd.DataFrame(response.json()['entries'])"
   ]
  },
  {
   "cell_type": "code",
   "execution_count": 11,
   "metadata": {},
   "outputs": [
    {
     "data": {
      "text/html": [
       "<div>\n",
       "<style scoped>\n",
       "    .dataframe tbody tr th:only-of-type {\n",
       "        vertical-align: middle;\n",
       "    }\n",
       "\n",
       "    .dataframe tbody tr th {\n",
       "        vertical-align: top;\n",
       "    }\n",
       "\n",
       "    .dataframe thead th {\n",
       "        text-align: right;\n",
       "    }\n",
       "</style>\n",
       "<table border=\"1\" class=\"dataframe\">\n",
       "  <thead>\n",
       "    <tr style=\"text-align: right;\">\n",
       "      <th></th>\n",
       "      <th>freshBlood</th>\n",
       "      <th>hotStreak</th>\n",
       "      <th>inactive</th>\n",
       "      <th>leaguePoints</th>\n",
       "      <th>losses</th>\n",
       "      <th>rank</th>\n",
       "      <th>summonerId</th>\n",
       "      <th>summonerName</th>\n",
       "      <th>veteran</th>\n",
       "      <th>wins</th>\n",
       "    </tr>\n",
       "  </thead>\n",
       "  <tbody>\n",
       "    <tr>\n",
       "      <th>295</th>\n",
       "      <td>False</td>\n",
       "      <td>False</td>\n",
       "      <td>False</td>\n",
       "      <td>602</td>\n",
       "      <td>135</td>\n",
       "      <td>I</td>\n",
       "      <td>GmYgtC1tCu2t90CK0s9UvKRz8dts6-l2rxLg4pD-Gf5VLCBQ</td>\n",
       "      <td>Bobby v9</td>\n",
       "      <td>False</td>\n",
       "      <td>211</td>\n",
       "    </tr>\n",
       "    <tr>\n",
       "      <th>296</th>\n",
       "      <td>False</td>\n",
       "      <td>False</td>\n",
       "      <td>False</td>\n",
       "      <td>730</td>\n",
       "      <td>482</td>\n",
       "      <td>I</td>\n",
       "      <td>g6tHviPwKplVrgiRT-IOzB3gUM8xe62w2OJaAuSQ4l174LA</td>\n",
       "      <td>Laceration</td>\n",
       "      <td>True</td>\n",
       "      <td>528</td>\n",
       "    </tr>\n",
       "    <tr>\n",
       "      <th>297</th>\n",
       "      <td>True</td>\n",
       "      <td>False</td>\n",
       "      <td>False</td>\n",
       "      <td>541</td>\n",
       "      <td>396</td>\n",
       "      <td>I</td>\n",
       "      <td>WleMIAuEheReQyw_e2M-vPgxTKsbvg2T02r_4JDUZlB_BuE</td>\n",
       "      <td>OhJama</td>\n",
       "      <td>False</td>\n",
       "      <td>427</td>\n",
       "    </tr>\n",
       "    <tr>\n",
       "      <th>298</th>\n",
       "      <td>False</td>\n",
       "      <td>True</td>\n",
       "      <td>False</td>\n",
       "      <td>673</td>\n",
       "      <td>67</td>\n",
       "      <td>I</td>\n",
       "      <td>D6H5fjWN1CMKt4SyBQj5B-RiaxlaC7Xb9ZfIeqXqTUOfgZs</td>\n",
       "      <td>BOT KING</td>\n",
       "      <td>False</td>\n",
       "      <td>141</td>\n",
       "    </tr>\n",
       "    <tr>\n",
       "      <th>299</th>\n",
       "      <td>False</td>\n",
       "      <td>False</td>\n",
       "      <td>False</td>\n",
       "      <td>530</td>\n",
       "      <td>58</td>\n",
       "      <td>I</td>\n",
       "      <td>bkmdfw0p8hQn9VJBYVS9hyt_wpXuGKrDfFZ67fNplMuH9_8</td>\n",
       "      <td>Dragonminkim</td>\n",
       "      <td>False</td>\n",
       "      <td>66</td>\n",
       "    </tr>\n",
       "  </tbody>\n",
       "</table>\n",
       "</div>"
      ],
      "text/plain": [
       "     freshBlood  hotStreak  inactive  leaguePoints  losses rank  \\\n",
       "295       False      False     False           602     135    I   \n",
       "296       False      False     False           730     482    I   \n",
       "297        True      False     False           541     396    I   \n",
       "298       False       True     False           673      67    I   \n",
       "299       False      False     False           530      58    I   \n",
       "\n",
       "                                           summonerId  summonerName  veteran  \\\n",
       "295  GmYgtC1tCu2t90CK0s9UvKRz8dts6-l2rxLg4pD-Gf5VLCBQ      Bobby v9    False   \n",
       "296   g6tHviPwKplVrgiRT-IOzB3gUM8xe62w2OJaAuSQ4l174LA    Laceration     True   \n",
       "297   WleMIAuEheReQyw_e2M-vPgxTKsbvg2T02r_4JDUZlB_BuE        OhJama    False   \n",
       "298   D6H5fjWN1CMKt4SyBQj5B-RiaxlaC7Xb9ZfIeqXqTUOfgZs      BOT KING    False   \n",
       "299   bkmdfw0p8hQn9VJBYVS9hyt_wpXuGKrDfFZ67fNplMuH9_8  Dragonminkim    False   \n",
       "\n",
       "     wins  \n",
       "295   211  \n",
       "296   528  \n",
       "297   427  \n",
       "298   141  \n",
       "299    66  "
      ]
     },
     "execution_count": 11,
     "metadata": {},
     "output_type": "execute_result"
    }
   ],
   "source": [
    "df.tail()"
   ]
  },
  {
   "cell_type": "markdown",
   "metadata": {},
   "source": [
    "# EDA of the First API Call"
   ]
  },
  {
   "cell_type": "code",
   "execution_count": 12,
   "metadata": {},
   "outputs": [
    {
     "name": "stderr",
     "output_type": "stream",
     "text": [
      "/Users/hiowatah/anaconda3/lib/python3.7/site-packages/scipy/stats/stats.py:1713: FutureWarning: Using a non-tuple sequence for multidimensional indexing is deprecated; use `arr[tuple(seq)]` instead of `arr[seq]`. In the future this will be interpreted as an array index, `arr[np.array(seq)]`, which will result either in an error or a different result.\n",
      "  return np.add.reduce(sorted[indexer] * weights, axis=axis) / sumval\n"
     ]
    },
    {
     "data": {
      "image/png": "[encoded data removed]",
      "text/plain": [
       "<Figure size 432x288 with 1 Axes>"
      ]
     },
     "metadata": {
      "needs_background": "light"
     },
     "output_type": "display_data"
    }
   ],
   "source": [
    "#Plotting the wins and losses for the players in the league\n",
    "sns.regplot(df.wins, df.losses);\n",
    "plt.title('Challenger Wins and Losses');"
   ]
  },
  {
   "cell_type": "markdown",
   "metadata": {},
   "source": [
    "As one might expect, the Win/Loss Ratio seems to follow a line with a slope of < 1. This makes sense as players who win more in this league also equates to other players losing more. The players who lose get demoted to a tier below and are replaced by other players who win their games. Therefore, this league should be consistely filled with players having a positive win loss ratio"
   ]
  },
  {
   "cell_type": "code",
   "execution_count": 13,
   "metadata": {},
   "outputs": [
    {
     "data": {
      "text/plain": [
       "Text(0.5, 1.0, 'Number of Players who have played more than 100 games in Challenger')"
      ]
     },
     "execution_count": 13,
     "metadata": {},
     "output_type": "execute_result"
    },
    {
     "data": {
      "image/png": "[encoded data removed]",
      "text/plain": [
       "<Figure size 432x288 with 1 Axes>"
      ]
     },
     "metadata": {
      "needs_background": "light"
     },
     "output_type": "display_data"
    }
   ],
   "source": [
    "df.groupby('veteran').count()['losses'].plot(kind = 'bar')\n",
    "plt.ylabel('Count of Veterans')\n",
    "plt.title('Number of Players who have played more than 100 games in Challenger')"
   ]
  },
  {
   "cell_type": "markdown",
   "metadata": {},
   "source": [
    "As one might expect, since the churn rate of players in challenger is so high, it would be difficult for players to maintain their rank as one of the best in the league for a long period of time. As such, the number of veterans, or players who have played more than 100 games in the league are less than the number of non veterans"
   ]
  },
  {
   "cell_type": "code",
   "execution_count": 14,
   "metadata": {},
   "outputs": [
    {
     "data": {
      "text/html": [
       "<div>\n",
       "<style scoped>\n",
       "    .dataframe tbody tr th:only-of-type {\n",
       "        vertical-align: middle;\n",
       "    }\n",
       "\n",
       "    .dataframe tbody tr th {\n",
       "        vertical-align: top;\n",
       "    }\n",
       "\n",
       "    .dataframe thead th {\n",
       "        text-align: right;\n",
       "    }\n",
       "</style>\n",
       "<table border=\"1\" class=\"dataframe\">\n",
       "  <thead>\n",
       "    <tr style=\"text-align: right;\">\n",
       "      <th></th>\n",
       "      <th>leaguePoints</th>\n",
       "      <th>losses</th>\n",
       "      <th>wins</th>\n",
       "    </tr>\n",
       "  </thead>\n",
       "  <tbody>\n",
       "    <tr>\n",
       "      <th>count</th>\n",
       "      <td>300.000000</td>\n",
       "      <td>300.000000</td>\n",
       "      <td>300.000000</td>\n",
       "    </tr>\n",
       "    <tr>\n",
       "      <th>mean</th>\n",
       "      <td>712.296667</td>\n",
       "      <td>245.633333</td>\n",
       "      <td>293.583333</td>\n",
       "    </tr>\n",
       "    <tr>\n",
       "      <th>std</th>\n",
       "      <td>185.186669</td>\n",
       "      <td>148.699464</td>\n",
       "      <td>151.613252</td>\n",
       "    </tr>\n",
       "    <tr>\n",
       "      <th>min</th>\n",
       "      <td>462.000000</td>\n",
       "      <td>39.000000</td>\n",
       "      <td>52.000000</td>\n",
       "    </tr>\n",
       "    <tr>\n",
       "      <th>25%</th>\n",
       "      <td>569.750000</td>\n",
       "      <td>133.750000</td>\n",
       "      <td>182.000000</td>\n",
       "    </tr>\n",
       "    <tr>\n",
       "      <th>50%</th>\n",
       "      <td>658.000000</td>\n",
       "      <td>211.000000</td>\n",
       "      <td>267.000000</td>\n",
       "    </tr>\n",
       "    <tr>\n",
       "      <th>75%</th>\n",
       "      <td>815.250000</td>\n",
       "      <td>333.000000</td>\n",
       "      <td>387.250000</td>\n",
       "    </tr>\n",
       "    <tr>\n",
       "      <th>max</th>\n",
       "      <td>1604.000000</td>\n",
       "      <td>876.000000</td>\n",
       "      <td>892.000000</td>\n",
       "    </tr>\n",
       "  </tbody>\n",
       "</table>\n",
       "</div>"
      ],
      "text/plain": [
       "       leaguePoints      losses        wins\n",
       "count    300.000000  300.000000  300.000000\n",
       "mean     712.296667  245.633333  293.583333\n",
       "std      185.186669  148.699464  151.613252\n",
       "min      462.000000   39.000000   52.000000\n",
       "25%      569.750000  133.750000  182.000000\n",
       "50%      658.000000  211.000000  267.000000\n",
       "75%      815.250000  333.000000  387.250000\n",
       "max     1604.000000  876.000000  892.000000"
      ]
     },
     "execution_count": 14,
     "metadata": {},
     "output_type": "execute_result"
    }
   ],
   "source": [
    "df.describe()"
   ]
  },
  {
   "cell_type": "markdown",
   "metadata": {},
   "source": [
    "# Now that I have my 300 Challenger players, I need to use their summonerIDs to get their AccountIds. Once I obtain that, I can finally get their matchIDs and filter for Qiyana Games"
   ]
  },
  {
   "cell_type": "code",
   "execution_count": 15,
   "metadata": {},
   "outputs": [],
   "source": [
    "summoner_ids = list(df.summonerId)"
   ]
  },
  {
   "cell_type": "code",
   "execution_count": 16,
   "metadata": {},
   "outputs": [
    {
     "data": {
      "text/plain": [
       "'1NkwHj5gZfxQfnvdu9Pev4XF5jncbESSh3zqTWyWVkEMFLI'"
      ]
     },
     "execution_count": 16,
     "metadata": {},
     "output_type": "execute_result"
    }
   ],
   "source": [
    "summoner_ids[0]"
   ]
  },
  {
   "cell_type": "code",
   "execution_count": 22,
   "metadata": {},
   "outputs": [],
   "source": [
    "# Creating an empty list of account_ids to add to through continuous API calls from a for loop\n",
    "account_ids = []"
   ]
  },
  {
   "cell_type": "code",
   "execution_count": 23,
   "metadata": {},
   "outputs": [
    {
     "name": "stdout",
     "output_type": "stream",
     "text": [
      "5ySAGwWRDkyJIVil_u0WEbok7ff2uCodUIcw99G3hr12CQ 100\n",
      "340zkAYCsvcPCquyjwQIz27BeGXH5Hxf2ANZhT6xp75CBQ 200\n",
      "0kO1lFanftTykU7KSGW3zkC0e32IHxl-J1jY7q7dXIydkQ 300\n"
     ]
    }
   ],
   "source": [
    "counter = 0\n",
    "for summoners in summoner_ids:\n",
    "    url = 'https://na1.api.riotgames.com/lol/summoner/v4/summoners/{}?api_key={}'.format(summoners, key)\n",
    "    response = requests.get(url)\n",
    "    account_ids.append(response.json()['accountId'])\n",
    "    counter +=1\n",
    "    if counter == 100:\n",
    "        print(account_ids[-1], len(account_ids))\n",
    "        time.sleep(120)\n",
    "        counter = 0"
   ]
  },
  {
   "cell_type": "code",
   "execution_count": 29,
   "metadata": {},
   "outputs": [],
   "source": [
    "match_list = []"
   ]
  },
  {
   "cell_type": "code",
   "execution_count": 30,
   "metadata": {},
   "outputs": [
    {
     "name": "stdout",
     "output_type": "stream",
     "text": [
      "Limit Reached. total of 100 matches\n",
      "Limit Reached. total of 200 matches\n",
      "Limit Reached. total of 300 matches\n"
     ]
    }
   ],
   "source": [
    "counter = 0\n",
    "for accounts in account_ids:\n",
    "    url = 'https://na1.api.riotgames.com/lol/match/v4/matchlists/by-account/{}?api_key={}'.format(accounts, key)\n",
    "    response = requests.get(url)\n",
    "    match_list.append(response.json()['matches'])\n",
    "    counter +=1\n",
    "    # Can only do 100 calls per 2 minutes so sleep function to prevent being blocked by API\n",
    "    if counter == 100:\n",
    "        print('Limit Reached. total of {} matches'.format(len(match_list)))\n",
    "        time.sleep(120)\n",
    "        counter = 0"
   ]
  },
  {
   "cell_type": "markdown",
   "metadata": {},
   "source": [
    "# Now That I have 30,000 matches I can do some EDA and then filter out for Qiyana games "
   ]
  },
  {
   "cell_type": "code",
   "execution_count": 91,
   "metadata": {},
   "outputs": [
    {
     "data": {
      "text/plain": [
       "{'platformId': 'NA1',\n",
       " 'gameId': 3060937464,\n",
       " 'champion': 142,\n",
       " 'queue': 450,\n",
       " 'season': 13,\n",
       " 'timestamp': 1559897778580,\n",
       " 'role': 'DUO',\n",
       " 'lane': 'NONE'}"
      ]
     },
     "execution_count": 91,
     "metadata": {},
     "output_type": "execute_result"
    }
   ],
   "source": [
    "match_list[0][98]"
   ]
  },
  {
   "cell_type": "code",
   "execution_count": 94,
   "metadata": {},
   "outputs": [],
   "source": [
    "platformId = []\n",
    "gameId = []\n",
    "champion = []\n",
    "queue = []\n",
    "season = []\n",
    "timestamp = []\n",
    "role = []\n",
    "lane = []"
   ]
  },
  {
   "cell_type": "code",
   "execution_count": 95,
   "metadata": {},
   "outputs": [],
   "source": [
    "for matches in match_list:\n",
    "    for match in matches:\n",
    "        platformId.append(match['platformId'])\n",
    "        gameId.append(match['gameId'])\n",
    "        champion.append(match['champion'])\n",
    "        queue.append(match['queue'])\n",
    "        season.append(match['season'])\n",
    "        timestamp.append(match['timestamp'])\n",
    "        role.append(match['role'])\n",
    "        lane.append(match['lane'])"
   ]
  },
  {
   "cell_type": "code",
   "execution_count": 98,
   "metadata": {},
   "outputs": [],
   "source": [
    "df2 = pd.DataFrame()"
   ]
  },
  {
   "cell_type": "code",
   "execution_count": 99,
   "metadata": {},
   "outputs": [],
   "source": [
    "df2['platformId'] = platformId\n",
    "df2['gameId'] = gameId\n",
    "df2['champion'] = champion\n",
    "df2['queue'] = queue\n",
    "df2['season'] = season\n",
    "df2['timestamp'] = timestamp\n",
    "df2['role'] = role\n",
    "df2['lane'] = lane"
   ]
  },
  {
   "cell_type": "code",
   "execution_count": 100,
   "metadata": {},
   "outputs": [
    {
     "data": {
      "text/html": [
       "<div>\n",
       "<style scoped>\n",
       "    .dataframe tbody tr th:only-of-type {\n",
       "        vertical-align: middle;\n",
       "    }\n",
       "\n",
       "    .dataframe tbody tr th {\n",
       "        vertical-align: top;\n",
       "    }\n",
       "\n",
       "    .dataframe thead th {\n",
       "        text-align: right;\n",
       "    }\n",
       "</style>\n",
       "<table border=\"1\" class=\"dataframe\">\n",
       "  <thead>\n",
       "    <tr style=\"text-align: right;\">\n",
       "      <th></th>\n",
       "      <th>platformId</th>\n",
       "      <th>gameId</th>\n",
       "      <th>champion</th>\n",
       "      <th>queue</th>\n",
       "      <th>season</th>\n",
       "      <th>timestamp</th>\n",
       "      <th>role</th>\n",
       "      <th>lane</th>\n",
       "    </tr>\n",
       "  </thead>\n",
       "  <tbody>\n",
       "    <tr>\n",
       "      <th>29995</th>\n",
       "      <td>NA1</td>\n",
       "      <td>3066980641</td>\n",
       "      <td>163</td>\n",
       "      <td>420</td>\n",
       "      <td>13</td>\n",
       "      <td>1560574883942</td>\n",
       "      <td>NONE</td>\n",
       "      <td>JUNGLE</td>\n",
       "    </tr>\n",
       "    <tr>\n",
       "      <th>29996</th>\n",
       "      <td>NA1</td>\n",
       "      <td>3066939444</td>\n",
       "      <td>64</td>\n",
       "      <td>420</td>\n",
       "      <td>13</td>\n",
       "      <td>1560572326702</td>\n",
       "      <td>NONE</td>\n",
       "      <td>JUNGLE</td>\n",
       "    </tr>\n",
       "    <tr>\n",
       "      <th>29997</th>\n",
       "      <td>NA1</td>\n",
       "      <td>3066815495</td>\n",
       "      <td>76</td>\n",
       "      <td>420</td>\n",
       "      <td>13</td>\n",
       "      <td>1560562305896</td>\n",
       "      <td>NONE</td>\n",
       "      <td>JUNGLE</td>\n",
       "    </tr>\n",
       "    <tr>\n",
       "      <th>29998</th>\n",
       "      <td>NA1</td>\n",
       "      <td>3066693488</td>\n",
       "      <td>79</td>\n",
       "      <td>420</td>\n",
       "      <td>13</td>\n",
       "      <td>1560550000929</td>\n",
       "      <td>DUO_SUPPORT</td>\n",
       "      <td>NONE</td>\n",
       "    </tr>\n",
       "    <tr>\n",
       "      <th>29999</th>\n",
       "      <td>NA1</td>\n",
       "      <td>3066675777</td>\n",
       "      <td>2</td>\n",
       "      <td>420</td>\n",
       "      <td>13</td>\n",
       "      <td>1560547396437</td>\n",
       "      <td>NONE</td>\n",
       "      <td>JUNGLE</td>\n",
       "    </tr>\n",
       "  </tbody>\n",
       "</table>\n",
       "</div>"
      ],
      "text/plain": [
       "      platformId      gameId  champion  queue  season      timestamp  \\\n",
       "29995        NA1  3066980641       163    420      13  1560574883942   \n",
       "29996        NA1  3066939444        64    420      13  1560572326702   \n",
       "29997        NA1  3066815495        76    420      13  1560562305896   \n",
       "29998        NA1  3066693488        79    420      13  1560550000929   \n",
       "29999        NA1  3066675777         2    420      13  1560547396437   \n",
       "\n",
       "              role    lane  \n",
       "29995         NONE  JUNGLE  \n",
       "29996         NONE  JUNGLE  \n",
       "29997         NONE  JUNGLE  \n",
       "29998  DUO_SUPPORT    NONE  \n",
       "29999         NONE  JUNGLE  "
      ]
     },
     "execution_count": 100,
     "metadata": {},
     "output_type": "execute_result"
    }
   ],
   "source": [
    "df2.tail()"
   ]
  },
  {
   "cell_type": "code",
   "execution_count": 101,
   "metadata": {},
   "outputs": [
    {
     "data": {
      "text/html": [
       "<div>\n",
       "<style scoped>\n",
       "    .dataframe tbody tr th:only-of-type {\n",
       "        vertical-align: middle;\n",
       "    }\n",
       "\n",
       "    .dataframe tbody tr th {\n",
       "        vertical-align: top;\n",
       "    }\n",
       "\n",
       "    .dataframe thead th {\n",
       "        text-align: right;\n",
       "    }\n",
       "</style>\n",
       "<table border=\"1\" class=\"dataframe\">\n",
       "  <thead>\n",
       "    <tr style=\"text-align: right;\">\n",
       "      <th></th>\n",
       "      <th>gameId</th>\n",
       "      <th>champion</th>\n",
       "      <th>queue</th>\n",
       "      <th>season</th>\n",
       "      <th>timestamp</th>\n",
       "    </tr>\n",
       "  </thead>\n",
       "  <tbody>\n",
       "    <tr>\n",
       "      <th>count</th>\n",
       "      <td>3.000000e+04</td>\n",
       "      <td>30000.000000</td>\n",
       "      <td>30000.000000</td>\n",
       "      <td>30000.0</td>\n",
       "      <td>3.000000e+04</td>\n",
       "    </tr>\n",
       "    <tr>\n",
       "      <th>mean</th>\n",
       "      <td>3.072009e+09</td>\n",
       "      <td>145.873433</td>\n",
       "      <td>422.529667</td>\n",
       "      <td>13.0</td>\n",
       "      <td>1.561105e+12</td>\n",
       "    </tr>\n",
       "    <tr>\n",
       "      <th>std</th>\n",
       "      <td>2.602103e+07</td>\n",
       "      <td>149.427699</td>\n",
       "      <td>22.893702</td>\n",
       "      <td>0.0</td>\n",
       "      <td>1.140443e+09</td>\n",
       "    </tr>\n",
       "    <tr>\n",
       "      <th>min</th>\n",
       "      <td>1.624398e+09</td>\n",
       "      <td>1.000000</td>\n",
       "      <td>400.000000</td>\n",
       "      <td>13.0</td>\n",
       "      <td>1.554421e+12</td>\n",
       "    </tr>\n",
       "    <tr>\n",
       "      <th>25%</th>\n",
       "      <td>3.067406e+09</td>\n",
       "      <td>42.000000</td>\n",
       "      <td>420.000000</td>\n",
       "      <td>13.0</td>\n",
       "      <td>1.560641e+12</td>\n",
       "    </tr>\n",
       "    <tr>\n",
       "      <th>50%</th>\n",
       "      <td>3.074003e+09</td>\n",
       "      <td>89.000000</td>\n",
       "      <td>420.000000</td>\n",
       "      <td>13.0</td>\n",
       "      <td>1.561367e+12</td>\n",
       "    </tr>\n",
       "    <tr>\n",
       "      <th>75%</th>\n",
       "      <td>3.080651e+09</td>\n",
       "      <td>164.000000</td>\n",
       "      <td>420.000000</td>\n",
       "      <td>13.0</td>\n",
       "      <td>1.561939e+12</td>\n",
       "    </tr>\n",
       "    <tr>\n",
       "      <th>max</th>\n",
       "      <td>3.086997e+09</td>\n",
       "      <td>555.000000</td>\n",
       "      <td>2020.000000</td>\n",
       "      <td>13.0</td>\n",
       "      <td>1.562456e+12</td>\n",
       "    </tr>\n",
       "  </tbody>\n",
       "</table>\n",
       "</div>"
      ],
      "text/plain": [
       "             gameId      champion         queue   season     timestamp\n",
       "count  3.000000e+04  30000.000000  30000.000000  30000.0  3.000000e+04\n",
       "mean   3.072009e+09    145.873433    422.529667     13.0  1.561105e+12\n",
       "std    2.602103e+07    149.427699     22.893702      0.0  1.140443e+09\n",
       "min    1.624398e+09      1.000000    400.000000     13.0  1.554421e+12\n",
       "25%    3.067406e+09     42.000000    420.000000     13.0  1.560641e+12\n",
       "50%    3.074003e+09     89.000000    420.000000     13.0  1.561367e+12\n",
       "75%    3.080651e+09    164.000000    420.000000     13.0  1.561939e+12\n",
       "max    3.086997e+09    555.000000   2020.000000     13.0  1.562456e+12"
      ]
     },
     "execution_count": 101,
     "metadata": {},
     "output_type": "execute_result"
    }
   ],
   "source": [
    "df2.describe()"
   ]
  },
  {
   "cell_type": "code",
   "execution_count": 102,
   "metadata": {},
   "outputs": [],
   "source": [
    "df2.to_csv('Match Histories of Challenger Players.csv')"
   ]
  },
  {
   "cell_type": "code",
   "execution_count": null,
   "metadata": {},
   "outputs": [],
   "source": []
  }
 ],
 "metadata": {
  "kernelspec": {
   "display_name": "Python 3",
   "language": "python",
   "name": "python3"
  },
  "language_info": {
   "codemirror_mode": {
    "name": "ipython",
    "version": 3
   },
   "file_extension": ".py",
   "mimetype": "text/x-python",
   "name": "python",
   "nbconvert_exporter": "python",
   "pygments_lexer": "ipython3",
   "version": "3.7.1"
  }
 },
 "nbformat": 4,
 "nbformat_minor": 2
}
