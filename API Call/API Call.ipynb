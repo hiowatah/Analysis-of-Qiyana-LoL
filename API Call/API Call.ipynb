{
 "cells": [
  {
   "cell_type": "markdown",
   "metadata": {},
   "source": [
    "# Import necessary libraries to get data from API calls"
   ]
  },
  {
   "cell_type": "code",
   "execution_count": 17,
   "metadata": {},
   "outputs": [],
   "source": [
    "import pandas as pd\n",
    "import matplotlib.pyplot as plt\n",
    "import seaborn as sns\n",
    "import json\n",
    "import requests\n",
    "import time"
   ]
  },
  {
   "cell_type": "code",
   "execution_count": 10,
   "metadata": {},
   "outputs": [],
   "source": [
    "# key regenerates every 48 hours, so don't need to hide it\n",
    "key = 'RGAPI-9bc496ef-f3c3-4611-947f-5bc4faa88a4e'"
   ]
  },
  {
   "cell_type": "markdown",
   "metadata": {},
   "source": [
    "# Need to pull in Challenger Players first to be able to get match histories later"
   ]
  },
  {
   "cell_type": "code",
   "execution_count": 11,
   "metadata": {},
   "outputs": [],
   "source": [
    "challengers = 'https://na1.api.riotgames.com/lol/league/v4/challengerleagues/by-queue/RANKED_SOLO_5x5?api_key={}'.format(key)"
   ]
  },
  {
   "cell_type": "code",
   "execution_count": 12,
   "metadata": {},
   "outputs": [],
   "source": [
    "response = requests.get(challengers)"
   ]
  },
  {
   "cell_type": "code",
   "execution_count": 14,
   "metadata": {},
   "outputs": [],
   "source": [
    "df = pd.DataFrame(response.json()['entries'])"
   ]
  },
  {
   "cell_type": "code",
   "execution_count": 15,
   "metadata": {},
   "outputs": [
    {
     "data": {
      "text/html": [
       "<div>\n",
       "<style scoped>\n",
       "    .dataframe tbody tr th:only-of-type {\n",
       "        vertical-align: middle;\n",
       "    }\n",
       "\n",
       "    .dataframe tbody tr th {\n",
       "        vertical-align: top;\n",
       "    }\n",
       "\n",
       "    .dataframe thead th {\n",
       "        text-align: right;\n",
       "    }\n",
       "</style>\n",
       "<table border=\"1\" class=\"dataframe\">\n",
       "  <thead>\n",
       "    <tr style=\"text-align: right;\">\n",
       "      <th></th>\n",
       "      <th>freshBlood</th>\n",
       "      <th>hotStreak</th>\n",
       "      <th>inactive</th>\n",
       "      <th>leaguePoints</th>\n",
       "      <th>losses</th>\n",
       "      <th>rank</th>\n",
       "      <th>summonerId</th>\n",
       "      <th>summonerName</th>\n",
       "      <th>veteran</th>\n",
       "      <th>wins</th>\n",
       "    </tr>\n",
       "  </thead>\n",
       "  <tbody>\n",
       "    <tr>\n",
       "      <th>295</th>\n",
       "      <td>False</td>\n",
       "      <td>False</td>\n",
       "      <td>False</td>\n",
       "      <td>658</td>\n",
       "      <td>256</td>\n",
       "      <td>I</td>\n",
       "      <td>yTvnnMFvHkM-ZyPlecgt7d2C_AsGzTKRfYPnB85k3ETVXzg</td>\n",
       "      <td>XAXAXAXAXA</td>\n",
       "      <td>True</td>\n",
       "      <td>288</td>\n",
       "    </tr>\n",
       "    <tr>\n",
       "      <th>296</th>\n",
       "      <td>False</td>\n",
       "      <td>False</td>\n",
       "      <td>False</td>\n",
       "      <td>565</td>\n",
       "      <td>56</td>\n",
       "      <td>I</td>\n",
       "      <td>jDfDtOhvkPzzYwxryN-BrG6KkLHi5ncWAfXykJj2c4U5ezk</td>\n",
       "      <td>stuntopolis</td>\n",
       "      <td>False</td>\n",
       "      <td>99</td>\n",
       "    </tr>\n",
       "    <tr>\n",
       "      <th>297</th>\n",
       "      <td>False</td>\n",
       "      <td>False</td>\n",
       "      <td>False</td>\n",
       "      <td>1184</td>\n",
       "      <td>350</td>\n",
       "      <td>I</td>\n",
       "      <td>yiB_OmJz-glsnQk346bvus01kOBH-59OgIgb4p37ZkROhVU</td>\n",
       "      <td>unrequ1ted</td>\n",
       "      <td>True</td>\n",
       "      <td>437</td>\n",
       "    </tr>\n",
       "    <tr>\n",
       "      <th>298</th>\n",
       "      <td>False</td>\n",
       "      <td>False</td>\n",
       "      <td>False</td>\n",
       "      <td>529</td>\n",
       "      <td>374</td>\n",
       "      <td>I</td>\n",
       "      <td>hBLr58dCSp9xH1fnrzvH0DMVGMX7V97-9j2WSizcPXWfJbI</td>\n",
       "      <td>riste</td>\n",
       "      <td>False</td>\n",
       "      <td>409</td>\n",
       "    </tr>\n",
       "    <tr>\n",
       "      <th>299</th>\n",
       "      <td>False</td>\n",
       "      <td>True</td>\n",
       "      <td>False</td>\n",
       "      <td>562</td>\n",
       "      <td>303</td>\n",
       "      <td>I</td>\n",
       "      <td>qMS7aY0YsIgQ8RpOMpINBNsJ2rArwLOOPtH_KBprkVHnyXc</td>\n",
       "      <td>ToLoToLo</td>\n",
       "      <td>False</td>\n",
       "      <td>345</td>\n",
       "    </tr>\n",
       "  </tbody>\n",
       "</table>\n",
       "</div>"
      ],
      "text/plain": [
       "     freshBlood  hotStreak  inactive  leaguePoints  losses rank  \\\n",
       "295       False      False     False           658     256    I   \n",
       "296       False      False     False           565      56    I   \n",
       "297       False      False     False          1184     350    I   \n",
       "298       False      False     False           529     374    I   \n",
       "299       False       True     False           562     303    I   \n",
       "\n",
       "                                          summonerId summonerName  veteran  \\\n",
       "295  yTvnnMFvHkM-ZyPlecgt7d2C_AsGzTKRfYPnB85k3ETVXzg   XAXAXAXAXA     True   \n",
       "296  jDfDtOhvkPzzYwxryN-BrG6KkLHi5ncWAfXykJj2c4U5ezk  stuntopolis    False   \n",
       "297  yiB_OmJz-glsnQk346bvus01kOBH-59OgIgb4p37ZkROhVU   unrequ1ted     True   \n",
       "298  hBLr58dCSp9xH1fnrzvH0DMVGMX7V97-9j2WSizcPXWfJbI        riste    False   \n",
       "299  qMS7aY0YsIgQ8RpOMpINBNsJ2rArwLOOPtH_KBprkVHnyXc     ToLoToLo    False   \n",
       "\n",
       "     wins  \n",
       "295   288  \n",
       "296    99  \n",
       "297   437  \n",
       "298   409  \n",
       "299   345  "
      ]
     },
     "execution_count": 15,
     "metadata": {},
     "output_type": "execute_result"
    }
   ],
   "source": [
    "df.tail()"
   ]
  },
  {
   "cell_type": "markdown",
   "metadata": {},
   "source": [
    "# EDA of the First API Call"
   ]
  },
  {
   "cell_type": "code",
   "execution_count": 128,
   "metadata": {},
   "outputs": [
    {
     "data": {
      "image/png": "[encoded data removed]",
      "text/plain": [
       "<Figure size 432x288 with 1 Axes>"
      ]
     },
     "metadata": {
      "needs_background": "light"
     },
     "output_type": "display_data"
    }
   ],
   "source": [
    "#Plotting the wins and losses for the players in the league\n",
    "sns.regplot(df.wins, df.losses);\n",
    "plt.title('Challenger Wins and Losses');"
   ]
  },
  {
   "cell_type": "markdown",
   "metadata": {},
   "source": [
    "As one might expect, the Win/Loss Ratio seems to follow a line with a slope of < 1. This makes sense as players who win more in this league also equates to other players losing more. The players who lose get demoted to a tier below and are replaced by other players who win their games. Therefore, this league should be consistely filled with players having a positive win loss ratio"
   ]
  },
  {
   "cell_type": "code",
   "execution_count": 36,
   "metadata": {},
   "outputs": [
    {
     "data": {
      "text/plain": [
       "Text(0.5, 1.0, 'Number of Players who have played more than 100 games in Challenger')"
      ]
     },
     "execution_count": 36,
     "metadata": {},
     "output_type": "execute_result"
    },
    {
     "data": {
      "image/png": "[encoded data removed]",
      "text/plain": [
       "<Figure size 432x288 with 1 Axes>"
      ]
     },
     "metadata": {
      "needs_background": "light"
     },
     "output_type": "display_data"
    }
   ],
   "source": [
    "df.groupby('veteran').count()['losses'].plot(kind = 'bar')\n",
    "plt.ylabel('Count of Veterans')\n",
    "plt.title('Number of Players who have played more than 100 games in Challenger')"
   ]
  },
  {
   "cell_type": "markdown",
   "metadata": {},
   "source": [
    "As one might expect, since the churn rate of players in challenger is so high, it would be difficult for players to maintain their rank as one of the best in the league for a long period of time. As such, the number of veterans, or players who have played more than 100 games in the league are less than the number of non veterans"
   ]
  },
  {
   "cell_type": "code",
   "execution_count": 37,
   "metadata": {},
   "outputs": [
    {
     "data": {
      "text/html": [
       "<div>\n",
       "<style scoped>\n",
       "    .dataframe tbody tr th:only-of-type {\n",
       "        vertical-align: middle;\n",
       "    }\n",
       "\n",
       "    .dataframe tbody tr th {\n",
       "        vertical-align: top;\n",
       "    }\n",
       "\n",
       "    .dataframe thead th {\n",
       "        text-align: right;\n",
       "    }\n",
       "</style>\n",
       "<table border=\"1\" class=\"dataframe\">\n",
       "  <thead>\n",
       "    <tr style=\"text-align: right;\">\n",
       "      <th></th>\n",
       "      <th>leaguePoints</th>\n",
       "      <th>losses</th>\n",
       "      <th>wins</th>\n",
       "    </tr>\n",
       "  </thead>\n",
       "  <tbody>\n",
       "    <tr>\n",
       "      <th>count</th>\n",
       "      <td>300.000000</td>\n",
       "      <td>300.000000</td>\n",
       "      <td>300.000000</td>\n",
       "    </tr>\n",
       "    <tr>\n",
       "      <th>mean</th>\n",
       "      <td>708.466667</td>\n",
       "      <td>240.110000</td>\n",
       "      <td>286.996667</td>\n",
       "    </tr>\n",
       "    <tr>\n",
       "      <th>std</th>\n",
       "      <td>186.310334</td>\n",
       "      <td>139.119104</td>\n",
       "      <td>143.071245</td>\n",
       "    </tr>\n",
       "    <tr>\n",
       "      <th>min</th>\n",
       "      <td>435.000000</td>\n",
       "      <td>54.000000</td>\n",
       "      <td>65.000000</td>\n",
       "    </tr>\n",
       "    <tr>\n",
       "      <th>25%</th>\n",
       "      <td>569.000000</td>\n",
       "      <td>134.500000</td>\n",
       "      <td>181.750000</td>\n",
       "    </tr>\n",
       "    <tr>\n",
       "      <th>50%</th>\n",
       "      <td>649.500000</td>\n",
       "      <td>209.000000</td>\n",
       "      <td>257.500000</td>\n",
       "    </tr>\n",
       "    <tr>\n",
       "      <th>75%</th>\n",
       "      <td>804.250000</td>\n",
       "      <td>315.750000</td>\n",
       "      <td>373.250000</td>\n",
       "    </tr>\n",
       "    <tr>\n",
       "      <th>max</th>\n",
       "      <td>1604.000000</td>\n",
       "      <td>785.000000</td>\n",
       "      <td>808.000000</td>\n",
       "    </tr>\n",
       "  </tbody>\n",
       "</table>\n",
       "</div>"
      ],
      "text/plain": [
       "       leaguePoints      losses        wins\n",
       "count    300.000000  300.000000  300.000000\n",
       "mean     708.466667  240.110000  286.996667\n",
       "std      186.310334  139.119104  143.071245\n",
       "min      435.000000   54.000000   65.000000\n",
       "25%      569.000000  134.500000  181.750000\n",
       "50%      649.500000  209.000000  257.500000\n",
       "75%      804.250000  315.750000  373.250000\n",
       "max     1604.000000  785.000000  808.000000"
      ]
     },
     "execution_count": 37,
     "metadata": {},
     "output_type": "execute_result"
    }
   ],
   "source": [
    "df.describe()"
   ]
  },
  {
   "cell_type": "markdown",
   "metadata": {},
   "source": [
    "# Now that I have my 300 Challenger players, I need to use their summonerIDs to get their AccountIds. Once I obtain that, I can finally get their matchIDs and filter for Qiyana Games"
   ]
  },
  {
   "cell_type": "code",
   "execution_count": 38,
   "metadata": {},
   "outputs": [],
   "source": [
    "summoner_ids = list(df.summonerId)"
   ]
  },
  {
   "cell_type": "code",
   "execution_count": 40,
   "metadata": {},
   "outputs": [
    {
     "data": {
      "text/plain": [
       "'xf6bsRp7IMuAh3saadVks59aJ1dZ603rWP8jYiJtlXghCeEF'"
      ]
     },
     "execution_count": 40,
     "metadata": {},
     "output_type": "execute_result"
    }
   ],
   "source": [
    "summoner_ids[0]"
   ]
  },
  {
   "cell_type": "code",
   "execution_count": 126,
   "metadata": {},
   "outputs": [],
   "source": [
    "# Creating an empty list of account_ids to add to through continuous API calls from a for loop\n",
    "account_ids = []"
   ]
  },
  {
   "cell_type": "code",
   "execution_count": 124,
   "metadata": {},
   "outputs": [],
   "source": [
    "counter = 0\n",
    "for summoners in summoner_ids:\n",
    "    url = 'https://na1.api.riotgames.com/lol/summoner/v4/summoners/{}?api_key={}'.format(summoners, key)\n",
    "    response = requests.get(url)\n",
    "    account_ids.append(response.json()['accountId'])\n",
    "    counter +=1\n",
    "    if counter = 100:\n",
    "        time.sleep(120)\n",
    "        counter = 0"
   ]
  }
 ],
 "metadata": {
  "kernelspec": {
   "display_name": "Python 3",
   "language": "python",
   "name": "python3"
  },
  "language_info": {
   "codemirror_mode": {
    "name": "ipython",
    "version": 3
   },
   "file_extension": ".py",
   "mimetype": "text/x-python",
   "name": "python",
   "nbconvert_exporter": "python",
   "pygments_lexer": "ipython3",
   "version": "3.7.1"
  }
 },
 "nbformat": 4,
 "nbformat_minor": 2
}
