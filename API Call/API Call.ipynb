{
 "cells": [
  {
   "cell_type": "markdown",
   "metadata": {},
   "source": [
    "# Import necessary libraries to get data from API calls"
   ]
  },
  {
   "cell_type": "code",
   "execution_count": 1,
   "metadata": {},
   "outputs": [],
   "source": [
    "import pandas as pd\n",
    "import matplotlib.pyplot as plt\n",
    "import json\n",
    "import requests\n",
    "import time"
   ]
  },
  {
   "cell_type": "code",
   "execution_count": 2,
   "metadata": {},
   "outputs": [],
   "source": [
    "# key regenerates every 48 hours, so don't need to hide it\n",
    "key = 'RGAPI-1483937e-ec98-4ddd-9511-18f16a0feaa7'"
   ]
  },
  {
   "cell_type": "markdown",
   "metadata": {},
   "source": [
    "# Need to pull in Challenger Players first to be able to get match histories later"
   ]
  },
  {
   "cell_type": "code",
   "execution_count": 3,
   "metadata": {},
   "outputs": [],
   "source": [
    "challengers = 'https://na1.api.riotgames.com/lol/league/v4/challengerleagues/by-queue/RANKED_SOLO_5x5?api_key={}'.format(key)"
   ]
  },
  {
   "cell_type": "code",
   "execution_count": 5,
   "metadata": {},
   "outputs": [],
   "source": [
    "response = requests.get(challengers)"
   ]
  },
  {
   "cell_type": "code",
   "execution_count": 10,
   "metadata": {},
   "outputs": [],
   "source": [
    "df = pd.DataFrame(response.json()['entries'])"
   ]
  },
  {
   "cell_type": "code",
   "execution_count": 12,
   "metadata": {},
   "outputs": [
    {
     "data": {
      "text/html": [
       "<div>\n",
       "<style scoped>\n",
       "    .dataframe tbody tr th:only-of-type {\n",
       "        vertical-align: middle;\n",
       "    }\n",
       "\n",
       "    .dataframe tbody tr th {\n",
       "        vertical-align: top;\n",
       "    }\n",
       "\n",
       "    .dataframe thead th {\n",
       "        text-align: right;\n",
       "    }\n",
       "</style>\n",
       "<table border=\"1\" class=\"dataframe\">\n",
       "  <thead>\n",
       "    <tr style=\"text-align: right;\">\n",
       "      <th></th>\n",
       "      <th>freshBlood</th>\n",
       "      <th>hotStreak</th>\n",
       "      <th>inactive</th>\n",
       "      <th>leaguePoints</th>\n",
       "      <th>losses</th>\n",
       "      <th>rank</th>\n",
       "      <th>summonerId</th>\n",
       "      <th>summonerName</th>\n",
       "      <th>veteran</th>\n",
       "      <th>wins</th>\n",
       "    </tr>\n",
       "  </thead>\n",
       "  <tbody>\n",
       "    <tr>\n",
       "      <th>295</th>\n",
       "      <td>True</td>\n",
       "      <td>True</td>\n",
       "      <td>False</td>\n",
       "      <td>506</td>\n",
       "      <td>204</td>\n",
       "      <td>I</td>\n",
       "      <td>zgdtQqkqs67LEr_oFi5c6lp0mM9NAjEN_F56jtHll47DFME</td>\n",
       "      <td>Karasmai v9</td>\n",
       "      <td>False</td>\n",
       "      <td>240</td>\n",
       "    </tr>\n",
       "    <tr>\n",
       "      <th>296</th>\n",
       "      <td>False</td>\n",
       "      <td>False</td>\n",
       "      <td>False</td>\n",
       "      <td>947</td>\n",
       "      <td>146</td>\n",
       "      <td>I</td>\n",
       "      <td>mC6FR8gc96V7xVfCD_MHtV7yJmu9Ce4U26lsRMGrhfBD2yLp</td>\n",
       "      <td>100T Bang</td>\n",
       "      <td>True</td>\n",
       "      <td>230</td>\n",
       "    </tr>\n",
       "    <tr>\n",
       "      <th>297</th>\n",
       "      <td>False</td>\n",
       "      <td>False</td>\n",
       "      <td>False</td>\n",
       "      <td>690</td>\n",
       "      <td>340</td>\n",
       "      <td>I</td>\n",
       "      <td>SJOLYVMOiq6NuDAnd6hsnOeMP9Ts3pi-uNaIhF3Cvz0vVqY</td>\n",
       "      <td>CptShrimps</td>\n",
       "      <td>False</td>\n",
       "      <td>374</td>\n",
       "    </tr>\n",
       "    <tr>\n",
       "      <th>298</th>\n",
       "      <td>False</td>\n",
       "      <td>False</td>\n",
       "      <td>False</td>\n",
       "      <td>545</td>\n",
       "      <td>217</td>\n",
       "      <td>I</td>\n",
       "      <td>6UUp6VjHJzdAbpeh9zV2IlfzVOC7dSypu40ofyi2sNx58JE</td>\n",
       "      <td>Lewd Nami</td>\n",
       "      <td>False</td>\n",
       "      <td>266</td>\n",
       "    </tr>\n",
       "    <tr>\n",
       "      <th>299</th>\n",
       "      <td>False</td>\n",
       "      <td>True</td>\n",
       "      <td>False</td>\n",
       "      <td>623</td>\n",
       "      <td>381</td>\n",
       "      <td>I</td>\n",
       "      <td>AGTW9KpcWv8hTQCTD7RCBHLJFIMov3lhcjpo3_xnN646PDo</td>\n",
       "      <td>GochuHunter</td>\n",
       "      <td>False</td>\n",
       "      <td>420</td>\n",
       "    </tr>\n",
       "  </tbody>\n",
       "</table>\n",
       "</div>"
      ],
      "text/plain": [
       "     freshBlood  hotStreak  inactive  leaguePoints  losses rank  \\\n",
       "295        True       True     False           506     204    I   \n",
       "296       False      False     False           947     146    I   \n",
       "297       False      False     False           690     340    I   \n",
       "298       False      False     False           545     217    I   \n",
       "299       False       True     False           623     381    I   \n",
       "\n",
       "                                           summonerId  summonerName  veteran  \\\n",
       "295   zgdtQqkqs67LEr_oFi5c6lp0mM9NAjEN_F56jtHll47DFME  Karasmai v9     False   \n",
       "296  mC6FR8gc96V7xVfCD_MHtV7yJmu9Ce4U26lsRMGrhfBD2yLp     100T Bang     True   \n",
       "297   SJOLYVMOiq6NuDAnd6hsnOeMP9Ts3pi-uNaIhF3Cvz0vVqY    CptShrimps    False   \n",
       "298   6UUp6VjHJzdAbpeh9zV2IlfzVOC7dSypu40ofyi2sNx58JE     Lewd Nami    False   \n",
       "299   AGTW9KpcWv8hTQCTD7RCBHLJFIMov3lhcjpo3_xnN646PDo   GochuHunter    False   \n",
       "\n",
       "     wins  \n",
       "295   240  \n",
       "296   230  \n",
       "297   374  \n",
       "298   266  \n",
       "299   420  "
      ]
     },
     "execution_count": 12,
     "metadata": {},
     "output_type": "execute_result"
    }
   ],
   "source": [
    "df.tail()"
   ]
  },
  {
   "cell_type": "markdown",
   "metadata": {},
   "source": [
    "# Now that I have my 300 Challenger players, I can get their match histories for the new champion Qiyana"
   ]
  },
  {
   "cell_type": "code",
   "execution_count": null,
   "metadata": {},
   "outputs": [],
   "source": []
  }
 ],
 "metadata": {
  "kernelspec": {
   "display_name": "Python 3",
   "language": "python",
   "name": "python3"
  },
  "language_info": {
   "codemirror_mode": {
    "name": "ipython",
    "version": 3
   },
   "file_extension": ".py",
   "mimetype": "text/x-python",
   "name": "python",
   "nbconvert_exporter": "python",
   "pygments_lexer": "ipython3",
   "version": "3.7.1"
  }
 },
 "nbformat": 4,
 "nbformat_minor": 2
}
